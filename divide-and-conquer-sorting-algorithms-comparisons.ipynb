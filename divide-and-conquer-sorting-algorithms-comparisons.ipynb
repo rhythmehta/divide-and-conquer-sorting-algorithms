{
 "cells": [
  {
   "cell_type": "markdown",
   "metadata": {},
   "source": [
    "# Divide And Conquer Sorting Algorithms\n",
    "Purpose: To focus on the implementation of sorting algorithms and analyzing their performance both mathematically (using theoretical arguments on the asymptotic behavior of algorithms ) and experimentally (i.e., running experiments for different input arrays and plotting relevant performance results). "
   ]
  },
  {
   "cell_type": "markdown",
   "metadata": {},
   "source": [
    "# K-Way Merge Sort"
   ]
  },
  {
   "cell_type": "code",
   "execution_count": 1,
   "metadata": {},
   "outputs": [],
   "source": [
    "c0 = 0 #initializing global step counters for functions\n",
    "c1 = 0\n",
    "c2 = 0\n",
    "c3 = 0\n",
    "\n",
    "def resetCounters(): #resetting counters value to zero for reuse\n",
    "    global c0\n",
    "    global c1\n",
    "    global c2\n",
    "    global c3\n",
    "    c0,c1,c2,c3 = 0,0,0,0"
   ]
  },
  {
   "cell_type": "code",
   "execution_count": 2,
   "metadata": {},
   "outputs": [],
   "source": [
    "def Merge(lst, l, m, r):\n",
    "    global c0 #counter for this function\n",
    "    \n",
    "    newlist = [m[0] - l + 1] #new list with length of subarray size\n",
    "    \n",
    "    for mi in range (1, len(m)): #looping the elements of subarray\n",
    "        c0+=1 #step count\n",
    "        newlist.append(m[mi] - m[mi-1]) #subtracting previous element from middle and appending\n",
    "    \n",
    "    newlist.append(r - m[-1]) #subtracting final element from right index and appending                 \n",
    "    arr = [[0]*newlist[i] for i in range(len(newlist))] #creating same length array with zeros as element\n",
    "    \n",
    "    c0+=len(newlist) #step count for the for loop in line above\n",
    "\n",
    "    for i in range (0, newlist[0]): #looping over subarray length elements\n",
    "        c0+=1 #step count\n",
    "        arr[0][i] = lst[l+i] #pick elements from actual array to the previous elements                \n",
    "    \n",
    "    for arr_idx in range(1, len(arr)): #loop to replace elements\n",
    "        c0+=1 #step count\n",
    "        \n",
    "        for idx in range(0, newlist[arr_idx]):\n",
    "            c0+=1\n",
    "            arr[arr_idx][idx]=lst[m[arr_idx-1]+ idx+1]\n",
    "    \n",
    "    for x in arr: #adding infinity as last element to make it the biggest element in the list to sort\n",
    "        c0+=1 #step count\n",
    "        x.append(float(\"inf\"))                    \n",
    "    \n",
    "    idxArr = [0]*(len(arr)) #array which will store the keys\n",
    "    c0+=len(arr) #step count\n",
    "    \n",
    "    for key in range (l, r+1):\n",
    "        c0+=1 #step count \n",
    "        mn = arr[0][idxArr[0]] #assumption: subarray 1 containes next already sorted key\n",
    "        lst[key] = mn\n",
    "        idxArr[0]+=1\n",
    "        final = 0\n",
    "                        \n",
    "        for arr_idx in range(1, len(arr)): #checking what we assumed\n",
    "            c0+=1 #step count\n",
    "            curr = arr[arr_idx][idxArr[arr_idx]] #the current key\n",
    "            \n",
    "            if curr < mn: # if the current key value is less than minimum\n",
    "                c0+=1 #step count\n",
    "                mn = curr #replacing\n",
    "                idxArr[arr_idx] += 1 #storing index\n",
    "                idxArr[final] -= 1 #poping the final element\n",
    "                final = arr_idx #updating the final index\n",
    "\n",
    "        lst[key] = mn\n",
    "    return lst"
   ]
  },
  {
   "cell_type": "code",
   "execution_count": 3,
   "metadata": {},
   "outputs": [],
   "source": [
    "def kMerge(lists, l, r, k=3):\n",
    "   \n",
    "    global c1 #step counter for this function\n",
    "    kmx = r-l+1 #max no.of subarray that the code will initialize \n",
    "    c1+=1 #step count for the if else below\n",
    "    \n",
    "    if kmx <= 1: #if the array has one or less elements, stop function\n",
    "        return\n",
    "    \n",
    "    else:\n",
    "        if kmx < k: #if k is larger the value of array size, we use default k\n",
    "            k = 3 #default k\n",
    "            c1 +=1 #step count for the if\n",
    "        \n",
    "        mid_idx = [((_*(r-l))//k) + l for _ in range(1,k)] #searching for mid index(s)\n",
    "        c1+=k #step count\n",
    "        kMerge(lists, l, mid_idx[0], k) #recursive\n",
    "        kMerge(lists, mid_idx[-1] +1, r, k)\n",
    "        \n",
    "        for mi in range(1, len(mid_idx)):\n",
    "            c1+=1 #step count\n",
    "            kMerge(lists, mid_idx[mi-1] +1, mid_idx[mi], k)\n",
    "            \n",
    "    return Merge(lists, l, mid_idx, r)"
   ]
  },
  {
   "cell_type": "code",
   "execution_count": 4,
   "metadata": {},
   "outputs": [
    {
     "name": "stdout",
     "output_type": "stream",
     "text": [
      "[1, 2, 3, 4, 5, 6, 7, 8, 9]\n",
      "[1, 4, 2, 3, 5, 6, 7, 9, 8]\n",
      "Tested\n"
     ]
    }
   ],
   "source": [
    "assert kMerge([3,4,5,2,1,8,7,9,6],0,8) == [1,2,3,4,5,6,7,8,9] #testing\n",
    "\n",
    "#sortedarray\n",
    "resetCounters()\n",
    "print(kMerge([1,2,3,4,5,6,7,8,9], 0, 5, 3))\n",
    "\n",
    "#somewhatsortedarray\n",
    "resetCounters()\n",
    "print(kMerge([1,4,3,2,6,5,9,7,8], 2, 7, 3)) #sorting subarray only from index 2 to 7\n",
    "\n",
    "#large sizeinput\n",
    "resetCounters()\n",
    "kMerge(([9,1,2,4,3,7]*1000), 0, 5999, 3)\n",
    "\n",
    "print(\"Tested\")"
   ]
  },
  {
   "cell_type": "markdown",
   "metadata": {},
   "source": [
    "### Implement a second version of a k-way merge sort that calls selection sort when sublists are below a certain length (of your choice) rather than continuing the subdivision process. "
   ]
  },
  {
   "cell_type": "code",
   "execution_count": 5,
   "metadata": {},
   "outputs": [],
   "source": [
    "def Sort(A): #Selection Sort\n",
    "    global c2 #step counter\n",
    "    \n",
    "    for i in range(len(A)):\n",
    "        mn = i #current min element\n",
    "        c2+=1 #step count\n",
    "        \n",
    "        for j in range(i+1, len(A)): #looping through each element\n",
    "            c2+=1 #step count\n",
    "            \n",
    "            if A[mn] > A[j]: #checking if we have a new min element\n",
    "                c2+=1 #step count\n",
    "                mn = j #updating min element\n",
    "        \n",
    "        tmp = A[i] #swapping\n",
    "        A[i] = A[mn]\n",
    "        A[mn] = tmp\n",
    "    return A #returning sorted array"
   ]
  },
  {
   "cell_type": "code",
   "execution_count": 6,
   "metadata": {},
   "outputs": [],
   "source": [
    "assert Sort([3,4,5,2,1,8,7,9,6]) == [1,2,3,4,5,6,7,8,9] #testing"
   ]
  },
  {
   "cell_type": "markdown",
   "metadata": {},
   "source": [
    "##### extended three way merge"
   ]
  },
  {
   "cell_type": "code",
   "execution_count": 7,
   "metadata": {},
   "outputs": [],
   "source": [
    "def extendedThreeWayMerge(lists, l, r, k=3): \n",
    "    '''\n",
    "    This function takes the same arguments as Three-Way MergeSort but \n",
    "    uses SelectionSort to sort a given number of array length.\n",
    "    '''\n",
    "    global c3\n",
    "    kmx = r-l+1  #the code cannot create more than this number of sublists\n",
    "    c3+=1 #step count\n",
    "    \n",
    "    if kmx <= 1: #if list is not longer than one, no divisions can be made\n",
    "        return\n",
    "    elif kmx <= 100: #the 100 is the threshold when we start using selection sort\n",
    "        Sort(lists)\n",
    "    #if the input of subdivisions is larger than maximum allowed  \n",
    "    else:\n",
    "        if kmx <k: # then set k to the default value\n",
    "            k=3\n",
    "\n",
    "    midx = [((_*(r-l))//k) + l for _ in range(1,k)]     #middle indices\n",
    "    \n",
    "    c3+=k #step coun\n",
    "    \n",
    "    kMerge(lists, l, midx[0], k)     #call the function to divide and merge\n",
    "    kMerge(lists, midx[-1] +1, r, k)\n",
    "    \n",
    "    for mi in range(1, len(midx)):\n",
    "        c3 +=1 #step count\n",
    "        kMerge(lists, midx[mi-1] +1, midx[mi], k)\n",
    "        \n",
    "    return Merge(lists, l, midx, r)"
   ]
  },
  {
   "cell_type": "code",
   "execution_count": 8,
   "metadata": {},
   "outputs": [
    {
     "name": "stdout",
     "output_type": "stream",
     "text": [
      "[1, 2, 3, 4, 5, 6, 7, 8, 9]\n",
      "Tested\n"
     ]
    }
   ],
   "source": [
    "assert extendedThreeWayMerge([3,4,5,2,1,8,7,9,6],0,8) == [1,2,3,4,5,6,7,8,9] #testing\n",
    "\n",
    "#sortedarray\n",
    "resetCounters()\n",
    "print(extendedThreeWayMerge([1,2,3,4,5,6,7,8,9], 0, 5, 3))\n",
    "\n",
    "#somewhatsortedarray\n",
    "resetCounters()\n",
    "extendedThreeWayMerge([1,4,3,2,6,5,9,7,8], 2, 7, 3)\n",
    "\n",
    "#large sizeinput\n",
    "resetCounters()\n",
    "extendedThreeWayMerge(([9,1,2,4,3,7]*1000), 0, 5999, 3)\n",
    "\n",
    "print(\"Tested\")"
   ]
  },
  {
   "cell_type": "markdown",
   "metadata": {},
   "source": [
    "# Bucket Sort\n",
    "Bucket sort (or Bin sort) is an algorithm that takes as inputs an  n -element array and the number of buckets,  k , to be used during sorting. Then, the algorithm distributes the elements of the input array into  k -different buckets and proceeds to sort the individual buckets. Then, merges the sorted buckets to obtained the sorted array. \n",
    "\n",
    "The BucketSort above calls the function GetBucketNum (see the pseudocode below) to distribute all the elements of array  A  into  k -buckets. Every element in the array is assigned a bucket number based on its value (positive or negative numbers). GetBucketNum returns the bucket number that corresponds to element  A[i] . It takes as inputs the element of the array,  A[i] , the max and min elements in  A , the size of the intervals in every bucket (e.g., if you have numbers with values between 0 and 100 numbers and 5 buckets, every bucket has an interval of size  20=[100−0]/5 ). Notice that in pseudocode the indices of the arrays are from 1 to  n . Thus, GetBucketNum consistently returns a number between 1 and  n \n",
    "\n",
    "#### Python 3 implementation of BucketSort that uses the selection sort algorithm for sorting the individual buckets"
   ]
  },
  {
   "cell_type": "code",
   "execution_count": 9,
   "metadata": {},
   "outputs": [
    {
     "name": "stdout",
     "output_type": "stream",
     "text": [
      "[12, 15, 30, 37, 39, 51, 60, 64, 66, 72, 110, 116, 134, 137, 144, 149, 158, 163, 193, 200, 208, 240, 241, 254, 261, 264, 276, 291, 298, 301, 303, 320, 340, 341, 345, 380, 392, 399, 409, 416, 417, 427, 435, 445, 452, 457, 469, 486, 489, 490, 510, 519, 520, 529, 542, 550, 568, 578, 581, 598, 601, 632, 634, 635, 636, 650, 660, 664, 666, 672, 677, 700, 703, 706, 714, 727, 744, 750, 763, 768, 772, 778, 780, 782, 785, 805, 812, 815, 827, 834, 861, 879, 883, 896, 898, 900, 943, 949, 976, 988]\n"
     ]
    }
   ],
   "source": [
    "import math\n",
    "import random\n",
    "\n",
    "def bucketSort(lst, k):\n",
    "    \"\"\"Implements BucketSort\n",
    "    \n",
    "    Input:\n",
    "    lst: a Python list OR numpy array (your code should work with both of these data types)\n",
    "    k: int, length of lst\n",
    "    \n",
    "    Output: a sorted Python list\"\"\"\n",
    "    \n",
    "    #find minimum and maximum values in the list to choose the size\n",
    "    mn = min(lst)\n",
    "    mx = max(lst)\n",
    "    sz = math.ceil(((mx-mn)/k))  \n",
    "\n",
    "    sortedArray = [] #empty list to store the sorted array  \n",
    "\n",
    "    Buckets = [0]*k #another list with the number of buckets\n",
    "    \n",
    "    for i in range(k): #iterate over the number of buckets \n",
    "        Buckets[i] = [] #change empty list with given index\n",
    "\n",
    "    for i in lst:  #iterate over the list\n",
    "        b = GetBucketNum(i,mn,mx,sz,k) #get the number of buckets\n",
    "        Buckets[b].append(i) #add to the buckets list\n",
    "    for i in range(k):\n",
    "        Buckets[i] = Sort(Buckets[i]) #sort the bucket\n",
    "\n",
    "    for i in Buckets:\n",
    "        for j in i: \n",
    "            sortedArray.append(j) #appending to array\n",
    "    return sortedArray\n",
    "\n",
    "def GetBucketNum(a,mn,mx,sz,k):\n",
    "    if a == mx: #is a the maximum? if so, substract k by one\n",
    "        j = k-1\n",
    "    elif a == mn:  #is it equal? if so, intialize k to 0\n",
    "        j = 0\n",
    "    else: #in all the other cases, j is 0\n",
    "        j = 1\n",
    "        while a > mn+(sz*j):\n",
    "            j = j+1\n",
    "        j=j-1\n",
    "    return j\n",
    "\n",
    "A = random.sample(range(1000), 100)\n",
    "print(bucketSort(A,10)) #testing"
   ]
  },
  {
   "cell_type": "code",
   "execution_count": 10,
   "metadata": {},
   "outputs": [],
   "source": [
    "assert bucketSort([3,4,5,2,1],3) == [1,2,3,4,5] #testing"
   ]
  },
  {
   "cell_type": "markdown",
   "metadata": {},
   "source": [
    "#### Implementing a second version of the BucketSort algorithm. This time instead of selection sort within BucketSort, we will use the Bucket sort recursively until the size of the bucket is less than or equal to k, the base case for the recursion."
   ]
  },
  {
   "cell_type": "code",
   "execution_count": 11,
   "metadata": {},
   "outputs": [],
   "source": [
    "def extendedBucketSort(lst, k):\n",
    "    \"\"\"Implements the second version of the BucketSort algorithm\n",
    "    \n",
    "    Input:\n",
    "    lst: a Python list OR numpy array (your code should work with both of these data types)\n",
    "    k: int, length of lst\n",
    "    \n",
    "    Output: a sorted Python list\"\"\"\n",
    "    mn = min(lst) #minimum element from the list\n",
    "    mx = max(lst) #maximum element from the list\n",
    "    sz = math.ceil((mx-mn)/k) #generating size of buckets\n",
    "\n",
    "    sortedArray = [] #empty array to store the sorted list\n",
    "\n",
    "    Buckets = [0]*k\n",
    "    for i in range(k):\n",
    "        Buckets[i] = []\n",
    "\n",
    "    for i in lst:\n",
    "        b = GetBucketNum(i,mn,mx,sz,k) #finding what bucket to put the element\n",
    "        Buckets[b].append(i) #putting into the bucket number found\n",
    "    for p in range(k):\n",
    "        if Buckets[p] != []:\n",
    "            Buckets[p] = bucketSort(Buckets[p],2*k-p) #instead of selectionsort in above, we use bucketsort to sort the buckets\n",
    "\n",
    "    for i in Buckets:\n",
    "        for j in i:\n",
    "            sortedArray.append(j) #taking sorted bucket by bucket and merging them to form the final sorted array\n",
    "    return sortedArray\n",
    "\n",
    "    raise NotImplementedError()"
   ]
  },
  {
   "cell_type": "code",
   "execution_count": 12,
   "metadata": {},
   "outputs": [],
   "source": [
    "assert extendedBucketSort([3,4,5,2,1,8,7,9,6],10) == [1,2,3,4,5,6,7,8,9] #testing"
   ]
  },
  {
   "cell_type": "markdown",
   "metadata": {},
   "source": [
    "#### Analyzing and comparing the practical run times of regular k-way merge sort (i.e., two-way merge sort), three-way merge sort, and the extended merge sort from (3) by producing a plot that illustrates how every running time and number of steps grows with input size."
   ]
  },
  {
   "cell_type": "code",
   "execution_count": 16,
   "metadata": {},
   "outputs": [
    {
     "data": {
      "image/png": "[encoded data removed]",
      "text/plain": [
       "<Figure size 432x288 with 1 Axes>"
      ]
     },
     "metadata": {
      "needs_background": "light"
     },
     "output_type": "display_data"
    }
   ],
   "source": [
    "import time #importing required libraries\n",
    "import numpy as np\n",
    "import matplotlib.pyplot as plt \n",
    "\n",
    "curve1_x, curve1_y, curve2_x, curve2_y, curve3_x, curve3_y = [],[],[],[],[],[] #initializng points for graph 1 time vs elements\n",
    "curve4_y, curve5_y, curve6_y = [],[],[] #to store y axis points for step counters\n",
    "\n",
    "elements_count = np.random.randint(1000, 10000, 100) #getting random int as element count\n",
    "elements_count = Sort(elements_count) #sorting the element count to plot proper graph\n",
    "\n",
    "    \n",
    "for z in elements_count:\n",
    "    array = list(range(z))\n",
    "    np.random.shuffle(array)\n",
    "    \n",
    "    resetCounters() #resetting counters = 0\n",
    "    start = time.time() #time before 3way merge function execution\n",
    "    kMerge(array,0,z-1,3) #three way merge function execution\n",
    "    stop = time.time() #time after 3 way merge function execution\n",
    "    curve1_y.append(stop-start) #getting axis points for curve 1\n",
    "    curve1_x.append(z) #storing no. of elements\n",
    "    curve4_y.append(c0+c1) #summing up the counters of all functions executed in three way merge\n",
    "    \n",
    "    resetCounters() #resetting counters = 0\n",
    "    start = time.time() #time before function execution\n",
    "    extendedThreeWayMerge(array,0,z-1,3) #kmerge with k = 3\n",
    "    stop = time.time() #time after function execution\n",
    "    curve2_y.append(stop-start) #getting axis points for curve 1\n",
    "    curve2_x.append(z) #storing no. of elements\n",
    "    curve5_y.append(c0+c1+c2+c3) #summing up the counters of all functions executed in extended 3 way merge\n",
    "    \n",
    "    resetCounters() #resetting counters = 0\n",
    "    start = time.time() #time before function execution\n",
    "    kMerge(array,0,z-1,2) #two way merge\n",
    "    stop = time.time() #time after function execution\n",
    "    curve3_y.append(stop-start) #getting axis points for curve 1\n",
    "    curve3_x.append(z) #storing no. of elements\n",
    "    curve6_y.append(c0+c1) #summing up the counters of all functions executed in two merge\n",
    "    \n",
    "plt.plot(curve1_x,curve1_y, label = \"3-Way Merge\") #plotting graph\n",
    "plt.plot(curve2_x,curve2_y, label = \"Extended 3-Way Merge\") #plotting graph\n",
    "plt.plot(curve3_x,curve3_y, label = \"2-Way Merge\") #plotting graph\n",
    "plt.xlabel(\"Total number of elements\")\n",
    "plt.ylabel(\"Time Taken\")\n",
    "plt.legend()\n",
    "plt.show()"
   ]
  },
  {
   "cell_type": "code",
   "execution_count": 17,
   "metadata": {},
   "outputs": [
    {
     "data": {
      "image/png": "[encoded data removed]",
      "text/plain": [
       "<Figure size 432x288 with 1 Axes>"
      ]
     },
     "metadata": {
      "needs_background": "light"
     },
     "output_type": "display_data"
    }
   ],
   "source": [
    "plt.plot(curve1_x,curve4_y, label = \"3-Way Merge\") #plotting graph for 3 way merge\n",
    "plt.plot(curve2_x,curve5_y, label = \"Extended K-Merge\") #plotting graph extended 3 way merge\n",
    "plt.plot(curve3_x,curve6_y, label = \"2-Way Merge\") #plotting graph for 2 way merge\n",
    "plt.xlabel(\"Total number of elements in the list\")\n",
    "plt.ylabel(\"Step Count\")\n",
    "plt.legend()\n",
    "plt.show()"
   ]
  },
  {
   "cell_type": "markdown",
   "metadata": {},
   "source": [
    "**Merge Complexity**\n",
    "\n",
    "Nested for-loops run k-times, that represents the number of subarrays. The complexity, averagely, is $\\Theta(k*n)$. \n",
    "\n",
    "\n",
    "If k is equal to n, the complexity moves to $\\Theta(n^2)$, worst-case:$O(n^2)$ .\n",
    "\n",
    "\n",
    "Normally, its complexity is $\\Omega(n)$.\n",
    "\n",
    "\n",
    "\n",
    "**K-Way MergeSort**\n",
    "\n",
    "K-way MergeSort divides and sorts the list in k-number. The list may be divided up to the extent where each element is a list itself (k=n). The function calls itself, which makes it recursive.\n",
    "\n",
    "$$T(n) = k*T(n/k) + \\Theta(n).$$\n",
    "\n",
    "Apply master theorem -> a=b=k, we get: $$n^{\\log_ba} = n^{\\log_kk} = n.$$ from which we can extract to:\n",
    "\n",
    "$T(n) = \\Theta(n^{\\log_ba}*\\log_k n) = \\Theta(n*\\log_k n)$.\n",
    "\n",
    "**Three-Way MergeSort and Two-Way MergeSort**\n",
    "\n",
    "In this case, k is 3 or 2. So, we just substitute for k in the formula above.\n",
    "\n",
    "**Three-Way MergeSort**\n",
    "\n",
    "$$T(n) = 3T(n/3) + O(n)  {\\displaystyle \\Rightarrow }  \n",
    "O (n log_3 n) $$\n",
    "\n",
    "\n",
    "\n",
    "\n",
    "**Two-Way MergeSort**\n",
    "\n",
    "$$T(n) = 2T(n/2) + O(n)  {\\displaystyle \\Rightarrow } \n",
    "O (n log_2 n)$$\n",
    "\n",
    "**Extended Three-Way MergeSort**\n",
    "\n",
    "In this case, we use Three-Way MergeSort, by integrating selection sort algorithm when the k is in a given threshold. Th number of subarrays defines its complexity. It will be similar to Three-Way MergeSort, when the selection sorting algorithm is not use d (k>threshold). When Selection Sort is called, it adds to the time complexity and makes the algorithm slower (k>=threshold).\n"
   ]
  },
  {
   "cell_type": "markdown",
   "metadata": {},
   "source": [
    "### Analyzing and comparing the practical run times of regular merge sort (i.e., two-way merge sort), Bucket sort and recursive sort, by producing a plot that illustrates how each running time grows with input size."
   ]
  },
  {
   "cell_type": "code",
   "execution_count": 18,
   "metadata": {},
   "outputs": [
    {
     "data": {
      "image/png": "[encoded data removed]",
      "text/plain": [
       "<Figure size 432x288 with 1 Axes>"
      ]
     },
     "metadata": {
      "needs_background": "light"
     },
     "output_type": "display_data"
    }
   ],
   "source": [
    "curve1_x, curve1_y, curve2_x, curve2_y = [],[],[],[] #initializing to hold x/y axis points\n",
    "\n",
    "for z in elements_count:\n",
    "    array = list(range(z))\n",
    "    np.random.shuffle(array)\n",
    "    start = time.time() #time before bucket sort function execution\n",
    "    bucketSort(array,1000) #function executing\n",
    "    stop = time.time() #time after function finished executing\n",
    "    curve1_y.append(stop-start) #storing time taken\n",
    "    curve1_x.append(z) #storing number of elements corresponding bucket sort function worked on\n",
    "    start = time.time() #time before extended bucket sort function execution\n",
    "    extendedBucketSort(array,1000) #function executing\n",
    "    stop = time.time() #time after function finished executing\n",
    "    curve2_y.append(stop-start) #getting axis points for extended bucket sort\n",
    "    curve2_x.append(z) #storing corresponding number of elements extended bucket sort function worked on\n",
    "    \n",
    "plt.plot(curve1_x,curve1_y, label = \"Bucket Sort\") #plotting graph\n",
    "plt.plot(curve2_x,curve2_y, label = \"Extended Bucket Sort\") #plotting graph\n",
    "plt.xlabel(\"Total number of elements in the list\")\n",
    "plt.ylabel(\"Time Taken to sort\")\n",
    "plt.legend()\n",
    "plt.show()"
   ]
  },
  {
   "cell_type": "code",
   "execution_count": null,
   "metadata": {},
   "outputs": [],
   "source": []
  }
 ],
 "metadata": {
  "kernelspec": {
   "display_name": "Python 3",
   "language": "python",
   "name": "python3"
  },
  "language_info": {
   "codemirror_mode": {
    "name": "ipython",
    "version": 3
   },
   "file_extension": ".py",
   "mimetype": "text/x-python",
   "name": "python",
   "nbconvert_exporter": "python",
   "pygments_lexer": "ipython3",
   "version": "3.7.0"
  }
 },
 "nbformat": 4,
 "nbformat_minor": 2
}
